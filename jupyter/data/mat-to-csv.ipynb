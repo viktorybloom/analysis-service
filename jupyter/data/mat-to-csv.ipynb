{
 "cells": [
  {
   "cell_type": "code",
   "execution_count": 32,
   "id": "ed617894-312a-4c2b-a22a-3d1022ce9f70",
   "metadata": {
    "tags": []
   },
   "outputs": [],
   "source": [
    "import scipy.io\n",
    "import pandas as pd"
   ]
  },
  {
   "cell_type": "code",
   "execution_count": 33,
   "id": "980f39de-cd24-47b0-81c7-391dae12cf5f",
   "metadata": {
    "tags": []
   },
   "outputs": [],
   "source": [
    "# Load .mat file\n",
    "mat = loadmat('spxvix2016.mat')"
   ]
  },
  {
   "cell_type": "code",
   "execution_count": 34,
   "id": "dda032c6-8adb-449d-aa9c-c2e35f5a2aa4",
   "metadata": {
    "tags": []
   },
   "outputs": [],
   "source": [
    "mat = {k:v for k, v in mat.items() if k[0] != '_'}"
   ]
  },
  {
   "cell_type": "code",
   "execution_count": 43,
   "id": "dd7b6ff9-c14d-49ca-ba6d-d9f9253c59d8",
   "metadata": {
    "tags": []
   },
   "outputs": [],
   "source": [
    "df = pd.DataFrame({k: pd.Series(v.flatten()) for k, v in mat.items()})"
   ]
  },
  {
   "cell_type": "code",
   "execution_count": 46,
   "id": "15d325af-22c1-4438-8613-88a384f9c936",
   "metadata": {
    "tags": []
   },
   "outputs": [
    {
     "name": "stdout",
     "output_type": "stream",
     "text": [
      "         rv     jumps          dts       vix      rets         c  vixann\n",
      "0  0.000112  0.000095  [2/01/1990]  0.000098  0.017670  0.000018   17.24\n",
      "1  0.000037  0.000000  [3/01/1990]  0.000109 -0.002589  0.000037   18.19\n",
      "2  0.000089  0.000000  [4/01/1990]  0.000122 -0.008678  0.000089   19.22\n",
      "3  0.000080  0.000000  [5/01/1990]  0.000134 -0.009776  0.000080   20.11\n",
      "4  0.000035  0.000000  [8/01/1990]  0.000136  0.004504  0.000035   20.26\n"
     ]
    }
   ],
   "source": [
    "# View the head of the DataFrame\n",
    "print(df.head())"
   ]
  },
  {
   "cell_type": "code",
   "execution_count": 45,
   "id": "a874c96f-2dcf-470d-814b-63f009b28e29",
   "metadata": {},
   "outputs": [],
   "source": [
    "# Save as CSV\n",
    "df.to_csv('output.csv', index=False)"
   ]
  }
 ],
 "metadata": {
  "kernelspec": {
   "display_name": "Python 3 (ipykernel)",
   "language": "python",
   "name": "python3"
  },
  "language_info": {
   "codemirror_mode": {
    "name": "ipython",
    "version": 3
   },
   "file_extension": ".py",
   "mimetype": "text/x-python",
   "name": "python",
   "nbconvert_exporter": "python",
   "pygments_lexer": "ipython3",
   "version": "3.10.9"
  }
 },
 "nbformat": 4,
 "nbformat_minor": 5
}
